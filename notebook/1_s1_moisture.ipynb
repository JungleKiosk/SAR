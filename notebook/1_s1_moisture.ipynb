{
 "cells": [
  {
   "cell_type": "code",
   "execution_count": 17,
   "id": "09e7a62f",
   "metadata": {},
   "outputs": [
    {
     "name": "stdout",
     "output_type": "stream",
     "text": [
      "['C:\\\\Users\\\\Minutella Francesco\\\\AppData\\\\Local\\\\Programs\\\\Python\\\\Python312\\\\python312.zip', 'C:\\\\Users\\\\Minutella Francesco\\\\AppData\\\\Local\\\\Programs\\\\Python\\\\Python312\\\\DLLs', 'C:\\\\Users\\\\Minutella Francesco\\\\AppData\\\\Local\\\\Programs\\\\Python\\\\Python312\\\\Lib', 'C:\\\\Users\\\\Minutella Francesco\\\\AppData\\\\Local\\\\Programs\\\\Python\\\\Python312', 'c:\\\\Users\\\\Minutella Francesco\\\\jk\\\\SAR\\\\venv', '', 'c:\\\\Users\\\\Minutella Francesco\\\\jk\\\\SAR\\\\venv\\\\Lib\\\\site-packages', 'c:\\\\Users\\\\Minutella Francesco\\\\jk\\\\SAR\\\\venv\\\\Lib\\\\site-packages\\\\win32', 'c:\\\\Users\\\\Minutella Francesco\\\\jk\\\\SAR\\\\venv\\\\Lib\\\\site-packages\\\\win32\\\\lib', 'c:\\\\Users\\\\Minutella Francesco\\\\jk\\\\SAR\\\\venv\\\\Lib\\\\site-packages\\\\Pythonwin', 'c:\\\\Users\\\\Minutella Francesco\\\\jk\\\\SAR', 'c:\\\\Users\\\\Minutella Francesco\\\\jk\\\\SAR', 'c:\\\\Users\\\\Minutella Francesco\\\\jk\\\\SAR', 'c:\\\\Users\\\\Minutella Francesco\\\\jk\\\\SAR', 'c:\\\\Users\\\\Minutella Francesco\\\\jk\\\\SAR', 'c:\\\\Users\\\\Minutella Francesco\\\\jk\\\\SAR', 'c:\\\\Users\\\\Minutella Francesco\\\\jk\\\\SAR']\n",
      "['2_s1_downloader.py', '3_moisture_estimator.py', 'aoi_loader.py', '__init__.py']\n"
     ]
    },
    {
     "ename": "ModuleNotFoundError",
     "evalue": "No module named 'scripts.aoi_loader'",
     "output_type": "error",
     "traceback": [
      "\u001b[31m---------------------------------------------------------------------------\u001b[39m",
      "\u001b[31mModuleNotFoundError\u001b[39m                       Traceback (most recent call last)",
      "\u001b[36mCell\u001b[39m\u001b[36m \u001b[39m\u001b[32mIn[17]\u001b[39m\u001b[32m, line 11\u001b[39m\n\u001b[32m      7\u001b[39m \u001b[38;5;28mprint\u001b[39m(os.listdir(\u001b[33m\"\u001b[39m\u001b[33m../scripts\u001b[39m\u001b[33m\"\u001b[39m))\n\u001b[32m     10\u001b[39m \u001b[38;5;28;01mimport\u001b[39;00m\u001b[38;5;250m \u001b[39m\u001b[34;01mee\u001b[39;00m\n\u001b[32m---> \u001b[39m\u001b[32m11\u001b[39m \u001b[38;5;28;01mfrom\u001b[39;00m\u001b[38;5;250m \u001b[39m\u001b[34;01mscripts\u001b[39;00m\u001b[34;01m.\u001b[39;00m\u001b[34;01maoi_loader\u001b[39;00m\u001b[38;5;250m \u001b[39m\u001b[38;5;28;01mimport\u001b[39;00m load_shapefile\n\u001b[32m     14\u001b[39m \u001b[38;5;66;03m# Inizializza GEE\u001b[39;00m\n\u001b[32m     15\u001b[39m ee.Authenticate()\n",
      "\u001b[31mModuleNotFoundError\u001b[39m: No module named 'scripts.aoi_loader'"
     ]
    }
   ],
   "source": [
    "import sys\n",
    "import os\n",
    "sys.path.append(os.path.abspath(\"..\"))\n",
    "print(sys.path)\n",
    "\n",
    "import os\n",
    "print(os.listdir(\"../scripts\"))\n",
    "\n",
    "\n",
    "import ee\n",
    "from scripts.aoi_loader import load_shapefile\n",
    "\n",
    "\n",
    "# Inizializza GEE\n",
    "ee.Authenticate()\n",
    "ee.Initialize()\n",
    "\n",
    "# 1. Carica AOI\n",
    "aoi = load_shapefile(\"../data/aoi_4326.shp\")\n",
    "\n",
    "\n",
    "\"\"\" # 3. Visualizza in mappa con geemap (opzionale)\n",
    "import geemap\n",
    "Map = geemap.Map()\n",
    "Map.addLayer(img, {\"min\": -25, \"max\": 0}, \"SAR VV\")\n",
    "Map \"\"\"\n"
   ]
  }
 ],
 "metadata": {
  "kernelspec": {
   "display_name": "venv",
   "language": "python",
   "name": "python3"
  },
  "language_info": {
   "codemirror_mode": {
    "name": "ipython",
    "version": 3
   },
   "file_extension": ".py",
   "mimetype": "text/x-python",
   "name": "python",
   "nbconvert_exporter": "python",
   "pygments_lexer": "ipython3",
   "version": "3.12.5"
  }
 },
 "nbformat": 4,
 "nbformat_minor": 5
}
